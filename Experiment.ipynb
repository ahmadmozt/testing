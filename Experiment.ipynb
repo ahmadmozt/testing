{
  "nbformat": 4,
  "nbformat_minor": 0,
  "metadata": {
    "colab": {
      "name": "Experiment.ipynb",
      "provenance": [],
      "authorship_tag": "ABX9TyPn0aWPHzDM1Ubo47QlEd12",
      "include_colab_link": true
    },
    "kernelspec": {
      "name": "python3",
      "display_name": "Python 3"
    }
  },
  "cells": [
    {
      "cell_type": "markdown",
      "metadata": {
        "id": "view-in-github",
        "colab_type": "text"
      },
      "source": [
        "<a href=\"https://colab.research.google.com/github/mushthofa-am/testing/blob/master/Experiment.ipynb\" target=\"_parent\"><img src=\"https://colab.research.google.com/assets/colab-badge.svg\" alt=\"Open In Colab\"/></a>"
      ]
    },
    {
      "cell_type": "markdown",
      "metadata": {
        "id": "i2XiwOndFAHX",
        "colab_type": "text"
      },
      "source": [
        "# Experiment"
      ]
    },
    {
      "cell_type": "markdown",
      "metadata": {
        "id": "qre0QWK7FJPc",
        "colab_type": "text"
      },
      "source": [
        "## Experiment one"
      ]
    },
    {
      "cell_type": "markdown",
      "metadata": {
        "id": "GojQ7WDGFRXz",
        "colab_type": "text"
      },
      "source": [
        "# Experiment two"
      ]
    },
    {
      "cell_type": "markdown",
      "metadata": {
        "id": "7R2heMjKFaS6",
        "colab_type": "text"
      },
      "source": [
        "## Experiment three"
      ]
    },
    {
      "cell_type": "code",
      "metadata": {
        "id": "A9G_89sfFgot",
        "colab_type": "code",
        "colab": {}
      },
      "source": [
        ""
      ],
      "execution_count": 0,
      "outputs": []
    }
  ]
}
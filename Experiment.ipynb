{
  "nbformat": 4,
  "nbformat_minor": 0,
  "metadata": {
    "colab": {
      "name": "Experiment.ipynb",
      "provenance": [],
      "authorship_tag": "ABX9TyPNZbf/aF/prMEjSuYgKYAo",
      "include_colab_link": true
    },
    "kernelspec": {
      "name": "python3",
      "display_name": "Python 3"
    }
  },
  "cells": [
    {
      "cell_type": "markdown",
      "metadata": {
        "id": "view-in-github",
        "colab_type": "text"
      },
      "source": [
        "<a href=\"https://colab.research.google.com/github/mushthofa-am/testing/blob/master/Experiment.ipynb\" target=\"_parent\"><img src=\"https://colab.research.google.com/assets/colab-badge.svg\" alt=\"Open In Colab\"/></a>"
      ]
    },
    {
      "cell_type": "markdown",
      "metadata": {
        "id": "i2XiwOndFAHX",
        "colab_type": "text"
      },
      "source": [
        "# Experiment"
      ]
    },
    {
      "cell_type": "markdown",
      "metadata": {
        "id": "qre0QWK7FJPc",
        "colab_type": "text"
      },
      "source": [
        "## Experiment one"
      ]
    },
    {
      "cell_type": "markdown",
      "metadata": {
        "id": "GojQ7WDGFRXz",
        "colab_type": "text"
      },
      "source": [
        "# Experiment two"
      ]
    },
    {
      "cell_type": "code",
      "metadata": {
        "id": "cvBWfa2kFUHu",
        "colab_type": "code",
        "colab": {}
      },
      "source": [
        ""
      ],
      "execution_count": 0,
      "outputs": []
    }
  ]
}